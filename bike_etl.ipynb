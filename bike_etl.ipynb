{
 "cells": [
  {
   "metadata": {},
   "cell_type": "markdown",
   "source": "# Data ETL ",
   "id": "7745dcbc1c36d024"
  },
  {
   "metadata": {
    "ExecuteTime": {
     "end_time": "2024-09-15T23:19:16.245256Z",
     "start_time": "2024-09-15T23:19:16.231497Z"
    }
   },
   "cell_type": "code",
   "source": [
    "from email.contentmanager import raw_data_manager\n",
    "\n",
    "# Dependence\n",
    "import pandas as pd\n",
    "import os\n",
    "import random\n",
    "\n",
    "from warnings import filterwarnings\n",
    "filterwarnings('ignore')"
   ],
   "id": "cc6b39b9a7a3d606",
   "outputs": [],
   "execution_count": 11
  },
  {
   "metadata": {
    "ExecuteTime": {
     "end_time": "2024-09-15T23:19:24.086613Z",
     "start_time": "2024-09-15T23:19:24.079499Z"
    }
   },
   "cell_type": "code",
   "source": [
    "# Function to read and sample data from multiple CSVs for a specific month\n",
    "def read_and_sample_monthly_data(month_folder_path, sample_frac=0.05):\n",
    "    # List to store data for the month\n",
    "    monthly_data = []\n",
    "\n",
    "    # Loop through each file in the month folder and read it\n",
    "    for file in os.listdir(month_folder_path):\n",
    "        if file.endswith('.csv'):\n",
    "            file_path = os.path.join(month_folder_path, file)\n",
    "            print(f\"Reading file: {file_path}\")\n",
    "            # Read CSV file into a DataFrame\n",
    "            df = pd.read_csv(file_path)\n",
    "            # Randomly sample 5% of the data\n",
    "            sampled_df = df.sample(frac=sample_frac, random_state=42)\n",
    "            # Append sampled data to the monthly data list\n",
    "            monthly_data.append(sampled_df)\n",
    "\n",
    "    # Concatenate all sampled data for the month\n",
    "    if monthly_data:\n",
    "        return pd.concat(monthly_data, ignore_index=True)\n",
    "    else:\n",
    "        return pd.DataFrame()  # Return empty DataFrame if no data is found"
   ],
   "id": "13c7f54f1e13222d",
   "outputs": [],
   "execution_count": 12
  },
  {
   "metadata": {
    "ExecuteTime": {
     "end_time": "2024-09-15T23:19:30.918771Z",
     "start_time": "2024-09-15T23:19:30.911896Z"
    }
   },
   "cell_type": "code",
   "source": [
    "# Function to process all months and sample 5% data\n",
    "def process_all_data(base_folder, year_month_folders):\n",
    "    all_sampled_data = []\n",
    "\n",
    "    # Iterate through each year-month folder and process the files\n",
    "    for year_month_folder in year_month_folders:\n",
    "        folder_path = os.path.join(base_folder, year_month_folder)\n",
    "        print(f\"Processing folder: {folder_path}\")\n",
    "        # Read and sample monthly data\n",
    "        monthly_sampled_data = read_and_sample_monthly_data(folder_path)\n",
    "        # Append sampled data to the overall list\n",
    "        if not monthly_sampled_data.empty:\n",
    "            all_sampled_data.append(monthly_sampled_data)\n",
    "\n",
    "    # Concatenate all monthly sampled data into a single DataFrame\n",
    "    if all_sampled_data:\n",
    "        return pd.concat(all_sampled_data, ignore_index=True)\n",
    "    else:\n",
    "        return pd.DataFrame()  # Return empty DataFrame if no data is found"
   ],
   "id": "bca9a5f5b55b8ebe",
   "outputs": [],
   "execution_count": 13
  },
  {
   "metadata": {
    "ExecuteTime": {
     "end_time": "2024-09-15T23:19:34.454333Z",
     "start_time": "2024-09-15T23:19:34.445783Z"
    }
   },
   "cell_type": "code",
   "source": [
    "# Since the Jupyter notebook is in the same folder, base folder is '.'\n",
    "base_folder = './'"
   ],
   "id": "397c65606a597c4a",
   "outputs": [],
   "execution_count": 14
  },
  {
   "metadata": {
    "ExecuteTime": {
     "end_time": "2024-09-15T23:19:41.973424Z",
     "start_time": "2024-09-15T23:19:41.969717Z"
    }
   },
   "cell_type": "code",
   "source": [
    "# List of folders (by year and month) that need to be processed\n",
    "year_month_folders = [\n",
    "    '2022-citibike-tripdata/202201-citibike-tripdata',\n",
    "    '2022-citibike-tripdata/202202-citibike-tripdata',\n",
    "    '2022-citibike-tripdata/202203-citibike-tripdata',\n",
    "    '2022-citibike-tripdata/202204-citibike-tripdata',\n",
    "    '2022-citibike-tripdata/202205-citibike-tripdata',\n",
    "    '2022-citibike-tripdata/202206-citibike-tripdata',\n",
    "    '2022-citibike-tripdata/202207-citibike-tripdata',\n",
    "    '2022-citibike-tripdata/202208-citibike-tripdata',\n",
    "    '2022-citibike-tripdata/202209-citibike-tripdata',\n",
    "    '2022-citibike-tripdata/202210-citibike-tripdata',\n",
    "    '2022-citibike-tripdata/202211-citibike-tripdata',\n",
    "    '2022-citibike-tripdata/202212-citibike-tripdata',\n",
    "    '2023-citibike-tripdata/202301-citibike-tripdata',\n",
    "    '2023-citibike-tripdata/202302-citibike-tripdata',\n",
    "    '2023-citibike-tripdata/202303-citibike-tripdata',\n",
    "    '2023-citibike-tripdata/202304-citibike-tripdata',\n",
    "    '2023-citibike-tripdata/202305-citibike-tripdata',\n",
    "    '2023-citibike-tripdata/202306-citibike-tripdata',\n",
    "    '2023-citibike-tripdata/202307-citibike-tripdata',\n",
    "    '2023-citibike-tripdata/202308-citibike-tripdata',\n",
    "    '2023-citibike-tripdata/202309-citibike-tripdata',\n",
    "    '2023-citibike-tripdata/202310-citibike-tripdata',\n",
    "    '2023-citibike-tripdata/202311-citibike-tripdata',\n",
    "    '2023-citibike-tripdata/202312-citibike-tripdata'\n",
    "]"
   ],
   "id": "1d39cfb287b6ae8c",
   "outputs": [],
   "execution_count": 15
  },
  {
   "metadata": {
    "ExecuteTime": {
     "end_time": "2024-09-15T23:21:51.155149Z",
     "start_time": "2024-09-15T23:20:01.353658Z"
    }
   },
   "cell_type": "code",
   "source": [
    "# Process all the data and sample 5%\n",
    "all_sampled_data = process_all_data(base_folder, year_month_folders)\n",
    "\n",
    "# Check the shape of the final concatenated data\n",
    "print(f\"Total sampled data shape: {all_sampled_data.shape}\")"
   ],
   "id": "2f7352c898a9609e",
   "outputs": [
    {
     "name": "stdout",
     "output_type": "stream",
     "text": [
      "Processing folder: ./2022-citibike-tripdata/202201-citibike-tripdata\n",
      "Reading file: ./2022-citibike-tripdata/202201-citibike-tripdata/202201-citibike-tripdata_2.csv\n",
      "Reading file: ./2022-citibike-tripdata/202201-citibike-tripdata/202201-citibike-tripdata_1.csv\n",
      "Processing folder: ./2022-citibike-tripdata/202202-citibike-tripdata\n",
      "Reading file: ./2022-citibike-tripdata/202202-citibike-tripdata/202202-citibike-tripdata_1.csv\n",
      "Reading file: ./2022-citibike-tripdata/202202-citibike-tripdata/202202-citibike-tripdata_2.csv\n",
      "Processing folder: ./2022-citibike-tripdata/202203-citibike-tripdata\n",
      "Reading file: ./2022-citibike-tripdata/202203-citibike-tripdata/202203-citibike-tripdata_2.csv\n",
      "Reading file: ./2022-citibike-tripdata/202203-citibike-tripdata/202203-citibike-tripdata_1.csv\n",
      "Processing folder: ./2022-citibike-tripdata/202204-citibike-tripdata\n",
      "Reading file: ./2022-citibike-tripdata/202204-citibike-tripdata/202204-citibike-tripdata_1.csv\n",
      "Reading file: ./2022-citibike-tripdata/202204-citibike-tripdata/202204-citibike-tripdata_2.csv\n",
      "Reading file: ./2022-citibike-tripdata/202204-citibike-tripdata/202204-citibike-tripdata_3.csv\n",
      "Processing folder: ./2022-citibike-tripdata/202205-citibike-tripdata\n",
      "Reading file: ./2022-citibike-tripdata/202205-citibike-tripdata/202205-citibike-tripdata_3.csv\n",
      "Reading file: ./2022-citibike-tripdata/202205-citibike-tripdata/202205-citibike-tripdata_2.csv\n",
      "Reading file: ./2022-citibike-tripdata/202205-citibike-tripdata/202205-citibike-tripdata_1.csv\n",
      "Processing folder: ./2022-citibike-tripdata/202206-citibike-tripdata\n",
      "Reading file: ./2022-citibike-tripdata/202206-citibike-tripdata/202206-citibike-tripdata_4.csv\n",
      "Reading file: ./2022-citibike-tripdata/202206-citibike-tripdata/202206-citibike-tripdata_1.csv\n",
      "Reading file: ./2022-citibike-tripdata/202206-citibike-tripdata/202206-citibike-tripdata_3.csv\n",
      "Reading file: ./2022-citibike-tripdata/202206-citibike-tripdata/202206-citibike-tripdata_2.csv\n",
      "Processing folder: ./2022-citibike-tripdata/202207-citibike-tripdata\n",
      "Reading file: ./2022-citibike-tripdata/202207-citibike-tripdata/202207-citibike-tripdata_2.csv\n",
      "Reading file: ./2022-citibike-tripdata/202207-citibike-tripdata/202207-citibike-tripdata_3.csv\n",
      "Reading file: ./2022-citibike-tripdata/202207-citibike-tripdata/202207-citibike-tripdata_1.csv\n",
      "Reading file: ./2022-citibike-tripdata/202207-citibike-tripdata/202207-citibike-tripdata_4.csv\n",
      "Processing folder: ./2022-citibike-tripdata/202208-citibike-tripdata\n",
      "Reading file: ./2022-citibike-tripdata/202208-citibike-tripdata/202208-citibike-tripdata_3.csv\n",
      "Reading file: ./2022-citibike-tripdata/202208-citibike-tripdata/202208-citibike-tripdata_2.csv\n",
      "Reading file: ./2022-citibike-tripdata/202208-citibike-tripdata/202208-citibike-tripdata_1.csv\n",
      "Reading file: ./2022-citibike-tripdata/202208-citibike-tripdata/202208-citibike-tripdata_4.csv\n",
      "Processing folder: ./2022-citibike-tripdata/202209-citibike-tripdata\n",
      "Reading file: ./2022-citibike-tripdata/202209-citibike-tripdata/202209-citibike-tripdata_4.csv\n",
      "Reading file: ./2022-citibike-tripdata/202209-citibike-tripdata/202209-citibike-tripdata_1.csv\n",
      "Reading file: ./2022-citibike-tripdata/202209-citibike-tripdata/202209-citibike-tripdata_2.csv\n",
      "Reading file: ./2022-citibike-tripdata/202209-citibike-tripdata/202209-citibike-tripdata_3.csv\n",
      "Processing folder: ./2022-citibike-tripdata/202210-citibike-tripdata\n",
      "Reading file: ./2022-citibike-tripdata/202210-citibike-tripdata/202210-citibike-tripdata_1.csv\n",
      "Reading file: ./2022-citibike-tripdata/202210-citibike-tripdata/202210-citibike-tripdata_2.csv\n",
      "Reading file: ./2022-citibike-tripdata/202210-citibike-tripdata/202210-citibike-tripdata_3.csv\n",
      "Processing folder: ./2022-citibike-tripdata/202211-citibike-tripdata\n",
      "Reading file: ./2022-citibike-tripdata/202211-citibike-tripdata/202211-citibike-tripdata_3.csv\n",
      "Reading file: ./2022-citibike-tripdata/202211-citibike-tripdata/202211-citibike-tripdata_2.csv\n",
      "Reading file: ./2022-citibike-tripdata/202211-citibike-tripdata/202211-citibike-tripdata_1.csv\n",
      "Processing folder: ./2022-citibike-tripdata/202212-citibike-tripdata\n",
      "Reading file: ./2022-citibike-tripdata/202212-citibike-tripdata/202212-citibike-tripdata_1.csv\n",
      "Reading file: ./2022-citibike-tripdata/202212-citibike-tripdata/202212-citibike-tripdata_2.csv\n",
      "Processing folder: ./2023-citibike-tripdata/202301-citibike-tripdata\n",
      "Reading file: ./2023-citibike-tripdata/202301-citibike-tripdata/202301-citibike-tripdata_1.csv\n",
      "Reading file: ./2023-citibike-tripdata/202301-citibike-tripdata/202301-citibike-tripdata_2.csv\n",
      "Processing folder: ./2023-citibike-tripdata/202302-citibike-tripdata\n",
      "Reading file: ./2023-citibike-tripdata/202302-citibike-tripdata/202302-citibike-tripdata_2.csv\n",
      "Reading file: ./2023-citibike-tripdata/202302-citibike-tripdata/202302-citibike-tripdata_1.csv\n",
      "Processing folder: ./2023-citibike-tripdata/202303-citibike-tripdata\n",
      "Reading file: ./2023-citibike-tripdata/202303-citibike-tripdata/202303-citibike-tripdata_1.csv\n",
      "Reading file: ./2023-citibike-tripdata/202303-citibike-tripdata/202303-citibike-tripdata_2.csv\n",
      "Reading file: ./2023-citibike-tripdata/202303-citibike-tripdata/202303-citibike-tripdata_3.csv\n",
      "Processing folder: ./2023-citibike-tripdata/202304-citibike-tripdata\n",
      "Reading file: ./2023-citibike-tripdata/202304-citibike-tripdata/202304-citibike-tripdata_3.csv\n",
      "Reading file: ./2023-citibike-tripdata/202304-citibike-tripdata/202304-citibike-tripdata_2.csv\n",
      "Reading file: ./2023-citibike-tripdata/202304-citibike-tripdata/202304-citibike-tripdata_1.csv\n",
      "Processing folder: ./2023-citibike-tripdata/202305-citibike-tripdata\n",
      "Reading file: ./2023-citibike-tripdata/202305-citibike-tripdata/202305-citibike-tripdata_4.csv\n",
      "Reading file: ./2023-citibike-tripdata/202305-citibike-tripdata/202305-citibike-tripdata_1.csv\n",
      "Reading file: ./2023-citibike-tripdata/202305-citibike-tripdata/202305-citibike-tripdata_2.csv\n",
      "Reading file: ./2023-citibike-tripdata/202305-citibike-tripdata/202305-citibike-tripdata_3.csv\n",
      "Processing folder: ./2023-citibike-tripdata/202306-citibike-tripdata\n",
      "Reading file: ./2023-citibike-tripdata/202306-citibike-tripdata/202306-citibike-tripdata_2.csv\n",
      "Reading file: ./2023-citibike-tripdata/202306-citibike-tripdata/202306-citibike-tripdata_3.csv\n",
      "Reading file: ./2023-citibike-tripdata/202306-citibike-tripdata/202306-citibike-tripdata_1.csv\n",
      "Reading file: ./2023-citibike-tripdata/202306-citibike-tripdata/202306-citibike-tripdata_4.csv\n",
      "Processing folder: ./2023-citibike-tripdata/202307-citibike-tripdata\n",
      "Reading file: ./2023-citibike-tripdata/202307-citibike-tripdata/202307-citibike-tripdata_4.csv\n",
      "Reading file: ./2023-citibike-tripdata/202307-citibike-tripdata/202307-citibike-tripdata_1.csv\n",
      "Reading file: ./2023-citibike-tripdata/202307-citibike-tripdata/202307-citibike-tripdata_3.csv\n",
      "Reading file: ./2023-citibike-tripdata/202307-citibike-tripdata/202307-citibike-tripdata_2.csv\n",
      "Processing folder: ./2023-citibike-tripdata/202308-citibike-tripdata\n",
      "Reading file: ./2023-citibike-tripdata/202308-citibike-tripdata/202308-citibike-tripdata_4.csv\n",
      "Reading file: ./2023-citibike-tripdata/202308-citibike-tripdata/202308-citibike-tripdata_1.csv\n",
      "Reading file: ./2023-citibike-tripdata/202308-citibike-tripdata/202308-citibike-tripdata_2.csv\n",
      "Reading file: ./2023-citibike-tripdata/202308-citibike-tripdata/202308-citibike-tripdata_3.csv\n",
      "Processing folder: ./2023-citibike-tripdata/202309-citibike-tripdata\n",
      "Reading file: ./2023-citibike-tripdata/202309-citibike-tripdata/202309-citibike-tripdata_3.csv\n",
      "Reading file: ./2023-citibike-tripdata/202309-citibike-tripdata/202309-citibike-tripdata_2.csv\n",
      "Reading file: ./2023-citibike-tripdata/202309-citibike-tripdata/202309-citibike-tripdata_1.csv\n",
      "Reading file: ./2023-citibike-tripdata/202309-citibike-tripdata/202309-citibike-tripdata_4.csv\n",
      "Processing folder: ./2023-citibike-tripdata/202310-citibike-tripdata\n",
      "Reading file: ./2023-citibike-tripdata/202310-citibike-tripdata/202310-citibike-tripdata_3.csv\n",
      "Reading file: ./2023-citibike-tripdata/202310-citibike-tripdata/202310-citibike-tripdata_2.csv\n",
      "Reading file: ./2023-citibike-tripdata/202310-citibike-tripdata/202310-citibike-tripdata_1.csv\n",
      "Reading file: ./2023-citibike-tripdata/202310-citibike-tripdata/202310-citibike-tripdata_4.csv\n",
      "Processing folder: ./2023-citibike-tripdata/202311-citibike-tripdata\n",
      "Reading file: ./2023-citibike-tripdata/202311-citibike-tripdata/202311-citibike-tripdata_1.csv\n",
      "Reading file: ./2023-citibike-tripdata/202311-citibike-tripdata/202311-citibike-tripdata_2.csv\n",
      "Reading file: ./2023-citibike-tripdata/202311-citibike-tripdata/202311-citibike-tripdata_3.csv\n",
      "Processing folder: ./2023-citibike-tripdata/202312-citibike-tripdata\n",
      "Reading file: ./2023-citibike-tripdata/202312-citibike-tripdata/202312-citibike-tripdata_2.csv\n",
      "Reading file: ./2023-citibike-tripdata/202312-citibike-tripdata/202312-citibike-tripdata_3.csv\n",
      "Reading file: ./2023-citibike-tripdata/202312-citibike-tripdata/202312-citibike-tripdata_1.csv\n",
      "Total sampled data shape: (3247295, 13)\n"
     ]
    }
   ],
   "execution_count": 16
  },
  {
   "metadata": {
    "ExecuteTime": {
     "end_time": "2024-09-15T23:22:54.364559Z",
     "start_time": "2024-09-15T23:22:39.816477Z"
    }
   },
   "cell_type": "code",
   "source": [
    "# Export the final sampled data to a CSV file\n",
    "output_file = './NYC_tripdata_sampled.csv'  # Output file in the same directory\n",
    "all_sampled_data.to_csv(output_file, index=False)\n",
    "print(f\"Sampled data saved to {output_file}\")"
   ],
   "id": "8a1c512841ec7d62",
   "outputs": [
    {
     "name": "stdout",
     "output_type": "stream",
     "text": [
      "Sampled data saved to ./NYC_tripdata_sampled.csv\n"
     ]
    }
   ],
   "execution_count": 17
  },
  {
   "metadata": {},
   "cell_type": "markdown",
   "source": "",
   "id": "e519646152fc6db2"
  }
 ],
 "metadata": {
  "kernelspec": {
   "display_name": "Python 3",
   "language": "python",
   "name": "python3"
  },
  "language_info": {
   "codemirror_mode": {
    "name": "ipython",
    "version": 2
   },
   "file_extension": ".py",
   "mimetype": "text/x-python",
   "name": "python",
   "nbconvert_exporter": "python",
   "pygments_lexer": "ipython2",
   "version": "2.7.6"
  }
 },
 "nbformat": 4,
 "nbformat_minor": 5
}
